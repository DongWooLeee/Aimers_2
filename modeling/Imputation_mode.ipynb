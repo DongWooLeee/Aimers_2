{
  "cells": [
    {
      "cell_type": "markdown",
      "source": [
        "#catboost baseline submission\n",
        "\n",
        "public 기준 \t0.6955106622"
      ],
      "metadata": {
        "id": "aHkIlOI1Rdwx"
      }
    },
    {
      "cell_type": "code",
      "execution_count": null,
      "metadata": {
        "id": "PbNcLQQ9FCSF",
        "colab": {
          "base_uri": "https://localhost:8080/"
        },
        "outputId": "4a0637bf-8f23-4e05-b71a-0ba301c180fd"
      },
      "outputs": [
        {
          "output_type": "stream",
          "name": "stdout",
          "text": [
            "Looking in indexes: https://pypi.org/simple, https://us-python.pkg.dev/colab-wheels/public/simple/\n",
            "Collecting catboost\n",
            "  Downloading catboost-1.1.1-cp38-none-manylinux1_x86_64.whl (76.6 MB)\n",
            "\u001b[2K     \u001b[90m━━━━━━━━━━━━━━━━━━━━━━━━━━━━━━━━━━━━━━━━\u001b[0m \u001b[32m76.6/76.6 MB\u001b[0m \u001b[31m12.0 MB/s\u001b[0m eta \u001b[36m0:00:00\u001b[0m\n",
            "\u001b[?25hRequirement already satisfied: graphviz in /usr/local/lib/python3.8/dist-packages (from catboost) (0.10.1)\n",
            "Requirement already satisfied: pandas>=0.24.0 in /usr/local/lib/python3.8/dist-packages (from catboost) (1.3.5)\n",
            "Requirement already satisfied: six in /usr/local/lib/python3.8/dist-packages (from catboost) (1.15.0)\n",
            "Requirement already satisfied: scipy in /usr/local/lib/python3.8/dist-packages (from catboost) (1.7.3)\n",
            "Requirement already satisfied: plotly in /usr/local/lib/python3.8/dist-packages (from catboost) (5.5.0)\n",
            "Requirement already satisfied: matplotlib in /usr/local/lib/python3.8/dist-packages (from catboost) (3.2.2)\n",
            "Requirement already satisfied: numpy>=1.16.0 in /usr/local/lib/python3.8/dist-packages (from catboost) (1.21.6)\n",
            "Requirement already satisfied: pytz>=2017.3 in /usr/local/lib/python3.8/dist-packages (from pandas>=0.24.0->catboost) (2022.7.1)\n",
            "Requirement already satisfied: python-dateutil>=2.7.3 in /usr/local/lib/python3.8/dist-packages (from pandas>=0.24.0->catboost) (2.8.2)\n",
            "Requirement already satisfied: kiwisolver>=1.0.1 in /usr/local/lib/python3.8/dist-packages (from matplotlib->catboost) (1.4.4)\n",
            "Requirement already satisfied: cycler>=0.10 in /usr/local/lib/python3.8/dist-packages (from matplotlib->catboost) (0.11.0)\n",
            "Requirement already satisfied: pyparsing!=2.0.4,!=2.1.2,!=2.1.6,>=2.0.1 in /usr/local/lib/python3.8/dist-packages (from matplotlib->catboost) (3.0.9)\n",
            "Requirement already satisfied: tenacity>=6.2.0 in /usr/local/lib/python3.8/dist-packages (from plotly->catboost) (8.2.1)\n",
            "Installing collected packages: catboost\n",
            "Successfully installed catboost-1.1.1\n"
          ]
        }
      ],
      "source": [
        "pip install catboost"
      ]
    },
    {
      "cell_type": "code",
      "execution_count": null,
      "metadata": {
        "id": "j0ibfNon_bTf"
      },
      "outputs": [],
      "source": [
        "import warnings\n",
        "warnings.filterwarnings('ignore')\n",
        "\n",
        "import os\n",
        "import random\n",
        "from tqdm import tqdm\n",
        "import pandas as pd\n",
        "import numpy as np\n",
        "\n",
        "from sklearn.ensemble import RandomForestClassifier\n",
        "from sklearn.model_selection import RepeatedStratifiedKFold\n",
        "from sklearn.metrics import f1_score\n",
        "from imblearn.over_sampling import BorderlineSMOTE\n",
        "from sklearn.decomposition import PCA\n",
        "from sklearn.preprocessing import StandardScaler\n",
        "from sklearn.inspection import permutation_importance\n",
        "import matplotlib.pyplot as plt\n",
        "import catboost\n",
        "\n",
        "# import eli5\n",
        "# from eli5.sklearn import PermutationImportance"
      ]
    },
    {
      "cell_type": "code",
      "execution_count": null,
      "metadata": {
        "id": "eOdiHZ04_yOS"
      },
      "outputs": [],
      "source": [
        "def seed_everything(seed):\n",
        "    random.seed(seed)\n",
        "    os.environ['PYTHONHASHSEED'] = str(seed)\n",
        "    np.random.seed(seed)\n",
        "seed_everything(37) # Seed 고정"
      ]
    },
    {
      "cell_type": "code",
      "execution_count": null,
      "metadata": {
        "colab": {
          "base_uri": "https://localhost:8080/"
        },
        "id": "C1O1le9zFKOK",
        "outputId": "ea14be3c-0514-4a0e-fbca-69cb41d9cfc5"
      },
      "outputs": [
        {
          "output_type": "stream",
          "name": "stdout",
          "text": [
            "Done.\n"
          ]
        }
      ],
      "source": [
        "from sklearn.model_selection import train_test_split\n",
        "from sklearn.preprocessing import LabelEncoder\n",
        "\n",
        "from sklearn.model_selection import train_test_split\n",
        "from sklearn.preprocessing import LabelEncoder\n",
        "\n",
        "train_df = pd.read_csv('./drive/MyDrive/open/train.csv')\n",
        "test_df = pd.read_csv('./drive/MyDrive/open/test.csv')\n",
        "\n",
        "train_x = train_df.drop(columns=['PRODUCT_ID', 'TIMESTAMP'])\n",
        "test_x = test_df.drop(columns=['PRODUCT_ID', 'TIMESTAMP'])\n",
        "\n",
        "A = pd.DataFrame(train_x.isnull().sum(),columns=['sum'])\n",
        "a = list(A[A['sum']==train_x.shape[0]].index)\n",
        "train_x.drop(columns=a,inplace=True)\n",
        "test_x.drop(columns=a,inplace=True)\n",
        "\n",
        "train_x = train_x.fillna(0)\n",
        "test_x = test_x.fillna(0)\n",
        "\n",
        "qual_col = ['LINE', 'PRODUCT_CODE']\n",
        "\n",
        "for i in qual_col:\n",
        "    le = LabelEncoder()\n",
        "    le = le.fit(train_x[i])\n",
        "    train_x[i] = le.transform(train_x[i])\n",
        "\n",
        "    for label in np.unique(test_x[i]):\n",
        "        if label not in le.classes_:\n",
        "            le.classes_ = np.append(le.classes_, label)\n",
        "    test_x[i] = le.transform(test_x[i])\n",
        "print('Done.')"
      ]
    },
    {
      "cell_type": "code",
      "execution_count": null,
      "metadata": {
        "id": "8SCBZN5cGNJm"
      },
      "outputs": [],
      "source": [
        "ttrain_y = train_x['Y_Class']\n",
        "train_y = train_x['Y_Quality']\n",
        "train_x = train_x.drop(columns=['Y_Class','Y_Quality'])"
      ]
    },
    {
      "cell_type": "code",
      "execution_count": null,
      "metadata": {
        "id": "yxdiNOgKFOfC"
      },
      "outputs": [],
      "source": [
        "clf = catboost.CatBoostRegressor(learning_rate=0.05, iterations=500, verbose=0)"
      ]
    },
    {
      "cell_type": "code",
      "execution_count": null,
      "metadata": {
        "colab": {
          "base_uri": "https://localhost:8080/"
        },
        "id": "b3X5DByMF40I",
        "outputId": "0d870f51-a2d5-4727-aa10-6db1b69aae17"
      },
      "outputs": [
        {
          "output_type": "execute_result",
          "data": {
            "text/plain": [
              "<catboost.core.CatBoostRegressor at 0x7f0e03f58bb0>"
            ]
          },
          "metadata": {},
          "execution_count": 49
        }
      ],
      "source": [
        "clf.fit(train_x, train_y, early_stopping_rounds=100, cat_features=['PRODUCT_CODE', 'LINE'])"
      ]
    },
    {
      "cell_type": "code",
      "execution_count": null,
      "metadata": {
        "id": "Ck-kTC0BGdt2"
      },
      "outputs": [],
      "source": [
        "pre_preds = clf.predict(test_x)\n",
        "pre_preds"
      ]
    },
    {
      "cell_type": "code",
      "source": [
        "a = train_df[['Y_Class','Y_Quality']].groupby('Y_Class').agg(['mean', 'min', 'max', 'count'])\n",
        "a"
      ],
      "metadata": {
        "colab": {
          "base_uri": "https://localhost:8080/",
          "height": 206
        },
        "id": "JkqOs0JX1vFN",
        "outputId": "ba8fe6bc-da35-4209-b95a-00522d8aa7cc"
      },
      "execution_count": null,
      "outputs": [
        {
          "output_type": "execute_result",
          "data": {
            "text/plain": [
              "        Y_Quality                          \n",
              "             mean       min       max count\n",
              "Y_Class                                    \n",
              "0        0.520837  0.500856  0.525067    88\n",
              "1        0.530253  0.525086  0.534843   407\n",
              "2        0.542031  0.534951  0.578841   103"
            ],
            "text/html": [
              "\n",
              "  <div id=\"df-0120b126-8b08-4544-8d76-79d6d395e711\">\n",
              "    <div class=\"colab-df-container\">\n",
              "      <div>\n",
              "<style scoped>\n",
              "    .dataframe tbody tr th:only-of-type {\n",
              "        vertical-align: middle;\n",
              "    }\n",
              "\n",
              "    .dataframe tbody tr th {\n",
              "        vertical-align: top;\n",
              "    }\n",
              "\n",
              "    .dataframe thead tr th {\n",
              "        text-align: left;\n",
              "    }\n",
              "\n",
              "    .dataframe thead tr:last-of-type th {\n",
              "        text-align: right;\n",
              "    }\n",
              "</style>\n",
              "<table border=\"1\" class=\"dataframe\">\n",
              "  <thead>\n",
              "    <tr>\n",
              "      <th></th>\n",
              "      <th colspan=\"4\" halign=\"left\">Y_Quality</th>\n",
              "    </tr>\n",
              "    <tr>\n",
              "      <th></th>\n",
              "      <th>mean</th>\n",
              "      <th>min</th>\n",
              "      <th>max</th>\n",
              "      <th>count</th>\n",
              "    </tr>\n",
              "    <tr>\n",
              "      <th>Y_Class</th>\n",
              "      <th></th>\n",
              "      <th></th>\n",
              "      <th></th>\n",
              "      <th></th>\n",
              "    </tr>\n",
              "  </thead>\n",
              "  <tbody>\n",
              "    <tr>\n",
              "      <th>0</th>\n",
              "      <td>0.520837</td>\n",
              "      <td>0.500856</td>\n",
              "      <td>0.525067</td>\n",
              "      <td>88</td>\n",
              "    </tr>\n",
              "    <tr>\n",
              "      <th>1</th>\n",
              "      <td>0.530253</td>\n",
              "      <td>0.525086</td>\n",
              "      <td>0.534843</td>\n",
              "      <td>407</td>\n",
              "    </tr>\n",
              "    <tr>\n",
              "      <th>2</th>\n",
              "      <td>0.542031</td>\n",
              "      <td>0.534951</td>\n",
              "      <td>0.578841</td>\n",
              "      <td>103</td>\n",
              "    </tr>\n",
              "  </tbody>\n",
              "</table>\n",
              "</div>\n",
              "      <button class=\"colab-df-convert\" onclick=\"convertToInteractive('df-0120b126-8b08-4544-8d76-79d6d395e711')\"\n",
              "              title=\"Convert this dataframe to an interactive table.\"\n",
              "              style=\"display:none;\">\n",
              "        \n",
              "  <svg xmlns=\"http://www.w3.org/2000/svg\" height=\"24px\"viewBox=\"0 0 24 24\"\n",
              "       width=\"24px\">\n",
              "    <path d=\"M0 0h24v24H0V0z\" fill=\"none\"/>\n",
              "    <path d=\"M18.56 5.44l.94 2.06.94-2.06 2.06-.94-2.06-.94-.94-2.06-.94 2.06-2.06.94zm-11 1L8.5 8.5l.94-2.06 2.06-.94-2.06-.94L8.5 2.5l-.94 2.06-2.06.94zm10 10l.94 2.06.94-2.06 2.06-.94-2.06-.94-.94-2.06-.94 2.06-2.06.94z\"/><path d=\"M17.41 7.96l-1.37-1.37c-.4-.4-.92-.59-1.43-.59-.52 0-1.04.2-1.43.59L10.3 9.45l-7.72 7.72c-.78.78-.78 2.05 0 2.83L4 21.41c.39.39.9.59 1.41.59.51 0 1.02-.2 1.41-.59l7.78-7.78 2.81-2.81c.8-.78.8-2.07 0-2.86zM5.41 20L4 18.59l7.72-7.72 1.47 1.35L5.41 20z\"/>\n",
              "  </svg>\n",
              "      </button>\n",
              "      \n",
              "  <style>\n",
              "    .colab-df-container {\n",
              "      display:flex;\n",
              "      flex-wrap:wrap;\n",
              "      gap: 12px;\n",
              "    }\n",
              "\n",
              "    .colab-df-convert {\n",
              "      background-color: #E8F0FE;\n",
              "      border: none;\n",
              "      border-radius: 50%;\n",
              "      cursor: pointer;\n",
              "      display: none;\n",
              "      fill: #1967D2;\n",
              "      height: 32px;\n",
              "      padding: 0 0 0 0;\n",
              "      width: 32px;\n",
              "    }\n",
              "\n",
              "    .colab-df-convert:hover {\n",
              "      background-color: #E2EBFA;\n",
              "      box-shadow: 0px 1px 2px rgba(60, 64, 67, 0.3), 0px 1px 3px 1px rgba(60, 64, 67, 0.15);\n",
              "      fill: #174EA6;\n",
              "    }\n",
              "\n",
              "    [theme=dark] .colab-df-convert {\n",
              "      background-color: #3B4455;\n",
              "      fill: #D2E3FC;\n",
              "    }\n",
              "\n",
              "    [theme=dark] .colab-df-convert:hover {\n",
              "      background-color: #434B5C;\n",
              "      box-shadow: 0px 1px 3px 1px rgba(0, 0, 0, 0.15);\n",
              "      filter: drop-shadow(0px 1px 2px rgba(0, 0, 0, 0.3));\n",
              "      fill: #FFFFFF;\n",
              "    }\n",
              "  </style>\n",
              "\n",
              "      <script>\n",
              "        const buttonEl =\n",
              "          document.querySelector('#df-0120b126-8b08-4544-8d76-79d6d395e711 button.colab-df-convert');\n",
              "        buttonEl.style.display =\n",
              "          google.colab.kernel.accessAllowed ? 'block' : 'none';\n",
              "\n",
              "        async function convertToInteractive(key) {\n",
              "          const element = document.querySelector('#df-0120b126-8b08-4544-8d76-79d6d395e711');\n",
              "          const dataTable =\n",
              "            await google.colab.kernel.invokeFunction('convertToInteractive',\n",
              "                                                     [key], {});\n",
              "          if (!dataTable) return;\n",
              "\n",
              "          const docLinkHtml = 'Like what you see? Visit the ' +\n",
              "            '<a target=\"_blank\" href=https://colab.research.google.com/notebooks/data_table.ipynb>data table notebook</a>'\n",
              "            + ' to learn more about interactive tables.';\n",
              "          element.innerHTML = '';\n",
              "          dataTable['output_type'] = 'display_data';\n",
              "          await google.colab.output.renderOutput(dataTable, element);\n",
              "          const docLink = document.createElement('div');\n",
              "          docLink.innerHTML = docLinkHtml;\n",
              "          element.appendChild(docLink);\n",
              "        }\n",
              "      </script>\n",
              "    </div>\n",
              "  </div>\n",
              "  "
            ]
          },
          "metadata": {},
          "execution_count": 51
        }
      ]
    },
    {
      "cell_type": "code",
      "source": [
        "preds=[]\n",
        "for p in pre_preds:\n",
        "  if p<=a[('Y_Quality','max')][0]:\n",
        "    preds.append(0)\n",
        "  elif p<=a[('Y_Quality','min')][2]:\n",
        "    preds.append(1)\n",
        "  else:\n",
        "    preds.append(2)"
      ],
      "metadata": {
        "id": "wThOun7n1zwX"
      },
      "execution_count": null,
      "outputs": []
    },
    {
      "cell_type": "code",
      "execution_count": null,
      "metadata": {
        "id": "PRbqEAnQHTEj"
      },
      "outputs": [],
      "source": [
        "submit = pd.read_csv('./drive/MyDrive/open/sample_submission.csv')\n",
        "submit['Y_Class'] = preds\n",
        "submit.to_csv('./baseline_submission.csv', index=False)"
      ]
    },
    {
      "cell_type": "markdown",
      "metadata": {
        "id": "De8GSB5LIQa_"
      },
      "source": [
        "#catboost baseline validation\n",
        "\n",
        "0.5977182539682541"
      ]
    },
    {
      "cell_type": "code",
      "execution_count": null,
      "metadata": {
        "id": "TOx8mN7HHZoo"
      },
      "outputs": [],
      "source": [
        "from sklearn.model_selection import train_test_split\n",
        "from sklearn.preprocessing import LabelEncoder\n",
        "\n",
        "from sklearn.model_selection import train_test_split\n",
        "from sklearn.preprocessing import LabelEncoder\n",
        "\n",
        "train_df = pd.read_csv('./drive/MyDrive/open/train.csv')\n",
        "test_df = pd.read_csv('./drive/MyDrive/open/test.csv')\n",
        "\n",
        "train_x = train_df.drop(columns=['PRODUCT_ID', 'TIMESTAMP'])\n",
        "\n",
        "#쓰레기 변수 지우기\n",
        "A = pd.DataFrame(train_x.isnull().sum(),columns=['sum'])\n",
        "a = list(A[A['sum']==train_x.shape[0]].index)\n",
        "train_x.drop(columns=a,inplace=True)"
      ]
    },
    {
      "cell_type": "code",
      "source": [
        "x_train, x_val= train_test_split(train_x, test_size=0.2, shuffle=True, random_state=37)\n",
        "\n",
        "#결측값 처리 코드\n",
        "x_train = x_train.fillna(0)\n",
        "x_val = x_val.fillna(0)\n",
        "\n",
        "qual_col = ['LINE', 'PRODUCT_CODE']\n",
        "\n",
        "for i in qual_col:\n",
        "    le = LabelEncoder()\n",
        "    le = le.fit(x_train[i])\n",
        "    x_train[i] = le.transform(x_train[i])\n",
        "\n",
        "    for label in np.unique(x_val[i]):\n",
        "        if label not in le.classes_:\n",
        "            le.classes_ = np.append(le.classes_, label)\n",
        "    x_val[i] = le.transform(x_val[i])\n",
        "print('Done.')"
      ],
      "metadata": {
        "colab": {
          "base_uri": "https://localhost:8080/"
        },
        "id": "47QcwJFwUtry",
        "outputId": "4444e3c3-d98b-4c92-f307-1c6e3e792b18"
      },
      "execution_count": null,
      "outputs": [
        {
          "output_type": "stream",
          "name": "stdout",
          "text": [
            "Done.\n"
          ]
        }
      ]
    },
    {
      "cell_type": "code",
      "execution_count": null,
      "metadata": {
        "id": "bpNXH_7mJAyA"
      },
      "outputs": [],
      "source": [
        "yy_train = x_train['Y_Class']\n",
        "y_train = x_train['Y_Quality']\n",
        "x_train = x_train.drop(columns=['Y_Quality','Y_Class'])\n",
        "\n",
        "yy_val = x_val['Y_Class']\n",
        "y_val = x_val['Y_Quality']\n",
        "x_val = x_val.drop(columns=['Y_Quality','Y_Class'])"
      ]
    },
    {
      "cell_type": "code",
      "execution_count": null,
      "metadata": {
        "id": "_fEGKESrJSpp",
        "colab": {
          "base_uri": "https://localhost:8080/"
        },
        "outputId": "9f9b491c-c3ec-4a30-d54a-644a1402f2f3"
      },
      "outputs": [
        {
          "output_type": "execute_result",
          "data": {
            "text/plain": [
              "<catboost.core.CatBoostRegressor at 0x7f0e0411aac0>"
            ]
          },
          "metadata": {},
          "execution_count": 41
        }
      ],
      "source": [
        "clf = catboost.CatBoostRegressor(learning_rate=0.05, iterations=500, verbose=0)\n",
        "clf.fit(x_train, y_train, early_stopping_rounds=100, cat_features=['PRODUCT_CODE', 'LINE'])"
      ]
    },
    {
      "cell_type": "code",
      "execution_count": null,
      "metadata": {
        "colab": {
          "base_uri": "https://localhost:8080/"
        },
        "id": "_VDyVMl3JYU7",
        "outputId": "276fe2cf-dc77-47fa-c97a-5c37734e6f6e"
      },
      "outputs": [
        {
          "output_type": "stream",
          "name": "stdout",
          "text": [
            "0.9879335660550852\n",
            "0.4635127370010562\n"
          ]
        }
      ],
      "source": [
        "from sklearn.metrics import f1_score\n",
        "pre_preds = clf.predict(x_val)\n",
        "print(clf.score(x_train,y_train))\n",
        "print(clf.score(x_val,y_val))"
      ]
    },
    {
      "cell_type": "code",
      "source": [
        "a = train_df[['Y_Class','Y_Quality']].groupby('Y_Class').agg(['mean', 'min', 'max', 'count'])\n",
        "a"
      ],
      "metadata": {
        "colab": {
          "base_uri": "https://localhost:8080/",
          "height": 206
        },
        "id": "6k-jTin5rQLp",
        "outputId": "4e7e53c7-4112-4a6f-b651-2a3abbdb1f99"
      },
      "execution_count": null,
      "outputs": [
        {
          "output_type": "execute_result",
          "data": {
            "text/plain": [
              "        Y_Quality                          \n",
              "             mean       min       max count\n",
              "Y_Class                                    \n",
              "0        0.520837  0.500856  0.525067    88\n",
              "1        0.530253  0.525086  0.534843   407\n",
              "2        0.542031  0.534951  0.578841   103"
            ],
            "text/html": [
              "\n",
              "  <div id=\"df-59663f55-f90a-4912-b1c1-4a66ecdc3dcb\">\n",
              "    <div class=\"colab-df-container\">\n",
              "      <div>\n",
              "<style scoped>\n",
              "    .dataframe tbody tr th:only-of-type {\n",
              "        vertical-align: middle;\n",
              "    }\n",
              "\n",
              "    .dataframe tbody tr th {\n",
              "        vertical-align: top;\n",
              "    }\n",
              "\n",
              "    .dataframe thead tr th {\n",
              "        text-align: left;\n",
              "    }\n",
              "\n",
              "    .dataframe thead tr:last-of-type th {\n",
              "        text-align: right;\n",
              "    }\n",
              "</style>\n",
              "<table border=\"1\" class=\"dataframe\">\n",
              "  <thead>\n",
              "    <tr>\n",
              "      <th></th>\n",
              "      <th colspan=\"4\" halign=\"left\">Y_Quality</th>\n",
              "    </tr>\n",
              "    <tr>\n",
              "      <th></th>\n",
              "      <th>mean</th>\n",
              "      <th>min</th>\n",
              "      <th>max</th>\n",
              "      <th>count</th>\n",
              "    </tr>\n",
              "    <tr>\n",
              "      <th>Y_Class</th>\n",
              "      <th></th>\n",
              "      <th></th>\n",
              "      <th></th>\n",
              "      <th></th>\n",
              "    </tr>\n",
              "  </thead>\n",
              "  <tbody>\n",
              "    <tr>\n",
              "      <th>0</th>\n",
              "      <td>0.520837</td>\n",
              "      <td>0.500856</td>\n",
              "      <td>0.525067</td>\n",
              "      <td>88</td>\n",
              "    </tr>\n",
              "    <tr>\n",
              "      <th>1</th>\n",
              "      <td>0.530253</td>\n",
              "      <td>0.525086</td>\n",
              "      <td>0.534843</td>\n",
              "      <td>407</td>\n",
              "    </tr>\n",
              "    <tr>\n",
              "      <th>2</th>\n",
              "      <td>0.542031</td>\n",
              "      <td>0.534951</td>\n",
              "      <td>0.578841</td>\n",
              "      <td>103</td>\n",
              "    </tr>\n",
              "  </tbody>\n",
              "</table>\n",
              "</div>\n",
              "      <button class=\"colab-df-convert\" onclick=\"convertToInteractive('df-59663f55-f90a-4912-b1c1-4a66ecdc3dcb')\"\n",
              "              title=\"Convert this dataframe to an interactive table.\"\n",
              "              style=\"display:none;\">\n",
              "        \n",
              "  <svg xmlns=\"http://www.w3.org/2000/svg\" height=\"24px\"viewBox=\"0 0 24 24\"\n",
              "       width=\"24px\">\n",
              "    <path d=\"M0 0h24v24H0V0z\" fill=\"none\"/>\n",
              "    <path d=\"M18.56 5.44l.94 2.06.94-2.06 2.06-.94-2.06-.94-.94-2.06-.94 2.06-2.06.94zm-11 1L8.5 8.5l.94-2.06 2.06-.94-2.06-.94L8.5 2.5l-.94 2.06-2.06.94zm10 10l.94 2.06.94-2.06 2.06-.94-2.06-.94-.94-2.06-.94 2.06-2.06.94z\"/><path d=\"M17.41 7.96l-1.37-1.37c-.4-.4-.92-.59-1.43-.59-.52 0-1.04.2-1.43.59L10.3 9.45l-7.72 7.72c-.78.78-.78 2.05 0 2.83L4 21.41c.39.39.9.59 1.41.59.51 0 1.02-.2 1.41-.59l7.78-7.78 2.81-2.81c.8-.78.8-2.07 0-2.86zM5.41 20L4 18.59l7.72-7.72 1.47 1.35L5.41 20z\"/>\n",
              "  </svg>\n",
              "      </button>\n",
              "      \n",
              "  <style>\n",
              "    .colab-df-container {\n",
              "      display:flex;\n",
              "      flex-wrap:wrap;\n",
              "      gap: 12px;\n",
              "    }\n",
              "\n",
              "    .colab-df-convert {\n",
              "      background-color: #E8F0FE;\n",
              "      border: none;\n",
              "      border-radius: 50%;\n",
              "      cursor: pointer;\n",
              "      display: none;\n",
              "      fill: #1967D2;\n",
              "      height: 32px;\n",
              "      padding: 0 0 0 0;\n",
              "      width: 32px;\n",
              "    }\n",
              "\n",
              "    .colab-df-convert:hover {\n",
              "      background-color: #E2EBFA;\n",
              "      box-shadow: 0px 1px 2px rgba(60, 64, 67, 0.3), 0px 1px 3px 1px rgba(60, 64, 67, 0.15);\n",
              "      fill: #174EA6;\n",
              "    }\n",
              "\n",
              "    [theme=dark] .colab-df-convert {\n",
              "      background-color: #3B4455;\n",
              "      fill: #D2E3FC;\n",
              "    }\n",
              "\n",
              "    [theme=dark] .colab-df-convert:hover {\n",
              "      background-color: #434B5C;\n",
              "      box-shadow: 0px 1px 3px 1px rgba(0, 0, 0, 0.15);\n",
              "      filter: drop-shadow(0px 1px 2px rgba(0, 0, 0, 0.3));\n",
              "      fill: #FFFFFF;\n",
              "    }\n",
              "  </style>\n",
              "\n",
              "      <script>\n",
              "        const buttonEl =\n",
              "          document.querySelector('#df-59663f55-f90a-4912-b1c1-4a66ecdc3dcb button.colab-df-convert');\n",
              "        buttonEl.style.display =\n",
              "          google.colab.kernel.accessAllowed ? 'block' : 'none';\n",
              "\n",
              "        async function convertToInteractive(key) {\n",
              "          const element = document.querySelector('#df-59663f55-f90a-4912-b1c1-4a66ecdc3dcb');\n",
              "          const dataTable =\n",
              "            await google.colab.kernel.invokeFunction('convertToInteractive',\n",
              "                                                     [key], {});\n",
              "          if (!dataTable) return;\n",
              "\n",
              "          const docLinkHtml = 'Like what you see? Visit the ' +\n",
              "            '<a target=\"_blank\" href=https://colab.research.google.com/notebooks/data_table.ipynb>data table notebook</a>'\n",
              "            + ' to learn more about interactive tables.';\n",
              "          element.innerHTML = '';\n",
              "          dataTable['output_type'] = 'display_data';\n",
              "          await google.colab.output.renderOutput(dataTable, element);\n",
              "          const docLink = document.createElement('div');\n",
              "          docLink.innerHTML = docLinkHtml;\n",
              "          element.appendChild(docLink);\n",
              "        }\n",
              "      </script>\n",
              "    </div>\n",
              "  </div>\n",
              "  "
            ]
          },
          "metadata": {},
          "execution_count": 43
        }
      ]
    },
    {
      "cell_type": "code",
      "source": [
        "preds=[]\n",
        "for p in pre_preds:\n",
        "  if p<=a[('Y_Quality','max')][0]:\n",
        "    preds.append(0)\n",
        "  elif p<=a[('Y_Quality','min')][2]:\n",
        "    preds.append(1)\n",
        "  else:\n",
        "    preds.append(2)"
      ],
      "metadata": {
        "id": "IZm-Am0Dy-Bg"
      },
      "execution_count": null,
      "outputs": []
    },
    {
      "cell_type": "code",
      "source": [
        "print(f1_score(yy_val, preds, average = 'macro'))"
      ],
      "metadata": {
        "colab": {
          "base_uri": "https://localhost:8080/"
        },
        "id": "l0sxY-rWxKwK",
        "outputId": "eb208c2e-cb21-4ac5-be12-4dd5e85bcdf1"
      },
      "execution_count": null,
      "outputs": [
        {
          "output_type": "stream",
          "name": "stdout",
          "text": [
            "0.5977182539682541\n"
          ]
        }
      ]
    },
    {
      "cell_type": "markdown",
      "source": [
        "결측치 처리 방법\n",
        "\n",
        "1. 제거 (너무 많음 안됌)\n",
        "\n",
        "2. 대치 (최빈값, 중앙값, 평균, similar case imputation, generalized imputation)\n",
        "\n",
        "3. 예측 모델 (너무 많아서 오히려 에러 누적 가능성 높음)"
      ],
      "metadata": {
        "id": "PJwyhmBLRvlf"
      }
    },
    {
      "cell_type": "markdown",
      "source": [
        "# catboost baseline + 최빈값 결측치 처리\n",
        "0.6273310023310024"
      ],
      "metadata": {
        "id": "bNdzoQhTSB9R"
      }
    },
    {
      "cell_type": "code",
      "source": [
        "from sklearn.model_selection import train_test_split\n",
        "from sklearn.preprocessing import LabelEncoder\n",
        "\n",
        "from sklearn.model_selection import train_test_split\n",
        "from sklearn.preprocessing import LabelEncoder\n",
        "\n",
        "train_df = pd.read_csv('./drive/MyDrive/open/train.csv')\n",
        "test_df = pd.read_csv('./drive/MyDrive/open/test.csv')\n",
        "\n",
        "train_x = train_df.drop(columns=['PRODUCT_ID', 'TIMESTAMP'])\n",
        "\n",
        "A = pd.DataFrame(train_x.isnull().sum(),columns=['sum'])\n",
        "a = list(A[A['sum']==train_x.shape[0]].index)\n",
        "train_x.drop(columns=a,inplace=True)\n",
        "\n",
        "x_train, x_val= train_test_split(train_x, test_size=0.2, shuffle=True, random_state=37)"
      ],
      "metadata": {
        "id": "bdDchJ-qSA1Q"
      },
      "execution_count": null,
      "outputs": []
    },
    {
      "cell_type": "code",
      "source": [
        "mode_list=[]\n",
        "for c in x_train.columns[4:]:\n",
        "  mode_list.append(x_train[c].median())"
      ],
      "metadata": {
        "id": "3xUYPAN7STHX"
      },
      "execution_count": null,
      "outputs": []
    },
    {
      "cell_type": "code",
      "source": [
        "for i,c in enumerate(x_train.columns[4:]):\n",
        "  x_train[c].fillna(mode_list[i],inplace=True)\n",
        "  x_val[c].fillna(mode_list[i],inplace=True)"
      ],
      "metadata": {
        "id": "i_MPHLUOWErZ"
      },
      "execution_count": null,
      "outputs": []
    },
    {
      "cell_type": "code",
      "source": [
        "qual_col = ['LINE', 'PRODUCT_CODE']\n",
        "\n",
        "for i in qual_col:\n",
        "    le = LabelEncoder()\n",
        "    le = le.fit(x_train[i])\n",
        "    x_train[i] = le.transform(x_train[i])\n",
        "\n",
        "    for label in np.unique(x_val[i]):\n",
        "        if label not in le.classes_:\n",
        "            le.classes_ = np.append(le.classes_, label)\n",
        "    x_val[i] = le.transform(x_val[i])\n",
        "print('Done.')"
      ],
      "metadata": {
        "colab": {
          "base_uri": "https://localhost:8080/"
        },
        "id": "Fl9Zv4AMS3ek",
        "outputId": "a7e7be78-168f-418d-a719-80be929ea3e2"
      },
      "execution_count": null,
      "outputs": [
        {
          "output_type": "stream",
          "name": "stdout",
          "text": [
            "Done.\n"
          ]
        }
      ]
    },
    {
      "cell_type": "code",
      "source": [
        "yy_train = x_train['Y_Class']\n",
        "y_train = x_train['Y_Quality']\n",
        "x_train = x_train.drop(columns=['Y_Quality','Y_Class'])\n",
        "\n",
        "yy_val = x_val['Y_Class']\n",
        "y_val = x_val['Y_Quality']\n",
        "x_val = x_val.drop(columns=['Y_Quality','Y_Class'])"
      ],
      "metadata": {
        "id": "wc2p4mI1WZoU"
      },
      "execution_count": null,
      "outputs": []
    },
    {
      "cell_type": "code",
      "source": [
        "clf = catboost.CatBoostRegressor(learning_rate=0.05, iterations=500, verbose=0)\n",
        "clf.fit(x_train, y_train, early_stopping_rounds=100, cat_features=['PRODUCT_CODE', 'LINE'])"
      ],
      "metadata": {
        "colab": {
          "base_uri": "https://localhost:8080/"
        },
        "id": "148ac0Q5Wka9",
        "outputId": "2b7a2db9-ff8f-4a39-e2b2-c7ff529a65a6"
      },
      "execution_count": null,
      "outputs": [
        {
          "output_type": "execute_result",
          "data": {
            "text/plain": [
              "<catboost.core.CatBoostRegressor at 0x7f20d8b2c370>"
            ]
          },
          "metadata": {},
          "execution_count": 21
        }
      ]
    },
    {
      "cell_type": "code",
      "source": [
        "from sklearn.metrics import f1_score\n",
        "pre_preds = clf.predict(x_val)\n",
        "print(clf.score(x_train,y_train))\n",
        "print(clf.score(x_val,y_val))"
      ],
      "metadata": {
        "colab": {
          "base_uri": "https://localhost:8080/"
        },
        "id": "YSbnAfr1Wmhi",
        "outputId": "1bc57543-3751-4d1e-cbad-cb2d9ff482d0"
      },
      "execution_count": null,
      "outputs": [
        {
          "output_type": "stream",
          "name": "stdout",
          "text": [
            "0.9892685610253007\n",
            "0.46758400914764564\n"
          ]
        }
      ]
    },
    {
      "cell_type": "code",
      "source": [
        "a = train_df[['Y_Class','Y_Quality']].groupby('Y_Class').agg(['mean', 'min', 'max', 'count'])\n",
        "a"
      ],
      "metadata": {
        "colab": {
          "base_uri": "https://localhost:8080/",
          "height": 206
        },
        "id": "lS3ErFAL5lD1",
        "outputId": "252b3f4c-c94a-4602-8df8-a308ea33e106"
      },
      "execution_count": null,
      "outputs": [
        {
          "output_type": "execute_result",
          "data": {
            "text/plain": [
              "        Y_Quality                          \n",
              "             mean       min       max count\n",
              "Y_Class                                    \n",
              "0        0.520837  0.500856  0.525067    88\n",
              "1        0.530253  0.525086  0.534843   407\n",
              "2        0.542031  0.534951  0.578841   103"
            ],
            "text/html": [
              "\n",
              "  <div id=\"df-fb35ffd6-0d99-4c7c-935a-dd5cfa519de4\">\n",
              "    <div class=\"colab-df-container\">\n",
              "      <div>\n",
              "<style scoped>\n",
              "    .dataframe tbody tr th:only-of-type {\n",
              "        vertical-align: middle;\n",
              "    }\n",
              "\n",
              "    .dataframe tbody tr th {\n",
              "        vertical-align: top;\n",
              "    }\n",
              "\n",
              "    .dataframe thead tr th {\n",
              "        text-align: left;\n",
              "    }\n",
              "\n",
              "    .dataframe thead tr:last-of-type th {\n",
              "        text-align: right;\n",
              "    }\n",
              "</style>\n",
              "<table border=\"1\" class=\"dataframe\">\n",
              "  <thead>\n",
              "    <tr>\n",
              "      <th></th>\n",
              "      <th colspan=\"4\" halign=\"left\">Y_Quality</th>\n",
              "    </tr>\n",
              "    <tr>\n",
              "      <th></th>\n",
              "      <th>mean</th>\n",
              "      <th>min</th>\n",
              "      <th>max</th>\n",
              "      <th>count</th>\n",
              "    </tr>\n",
              "    <tr>\n",
              "      <th>Y_Class</th>\n",
              "      <th></th>\n",
              "      <th></th>\n",
              "      <th></th>\n",
              "      <th></th>\n",
              "    </tr>\n",
              "  </thead>\n",
              "  <tbody>\n",
              "    <tr>\n",
              "      <th>0</th>\n",
              "      <td>0.520837</td>\n",
              "      <td>0.500856</td>\n",
              "      <td>0.525067</td>\n",
              "      <td>88</td>\n",
              "    </tr>\n",
              "    <tr>\n",
              "      <th>1</th>\n",
              "      <td>0.530253</td>\n",
              "      <td>0.525086</td>\n",
              "      <td>0.534843</td>\n",
              "      <td>407</td>\n",
              "    </tr>\n",
              "    <tr>\n",
              "      <th>2</th>\n",
              "      <td>0.542031</td>\n",
              "      <td>0.534951</td>\n",
              "      <td>0.578841</td>\n",
              "      <td>103</td>\n",
              "    </tr>\n",
              "  </tbody>\n",
              "</table>\n",
              "</div>\n",
              "      <button class=\"colab-df-convert\" onclick=\"convertToInteractive('df-fb35ffd6-0d99-4c7c-935a-dd5cfa519de4')\"\n",
              "              title=\"Convert this dataframe to an interactive table.\"\n",
              "              style=\"display:none;\">\n",
              "        \n",
              "  <svg xmlns=\"http://www.w3.org/2000/svg\" height=\"24px\"viewBox=\"0 0 24 24\"\n",
              "       width=\"24px\">\n",
              "    <path d=\"M0 0h24v24H0V0z\" fill=\"none\"/>\n",
              "    <path d=\"M18.56 5.44l.94 2.06.94-2.06 2.06-.94-2.06-.94-.94-2.06-.94 2.06-2.06.94zm-11 1L8.5 8.5l.94-2.06 2.06-.94-2.06-.94L8.5 2.5l-.94 2.06-2.06.94zm10 10l.94 2.06.94-2.06 2.06-.94-2.06-.94-.94-2.06-.94 2.06-2.06.94z\"/><path d=\"M17.41 7.96l-1.37-1.37c-.4-.4-.92-.59-1.43-.59-.52 0-1.04.2-1.43.59L10.3 9.45l-7.72 7.72c-.78.78-.78 2.05 0 2.83L4 21.41c.39.39.9.59 1.41.59.51 0 1.02-.2 1.41-.59l7.78-7.78 2.81-2.81c.8-.78.8-2.07 0-2.86zM5.41 20L4 18.59l7.72-7.72 1.47 1.35L5.41 20z\"/>\n",
              "  </svg>\n",
              "      </button>\n",
              "      \n",
              "  <style>\n",
              "    .colab-df-container {\n",
              "      display:flex;\n",
              "      flex-wrap:wrap;\n",
              "      gap: 12px;\n",
              "    }\n",
              "\n",
              "    .colab-df-convert {\n",
              "      background-color: #E8F0FE;\n",
              "      border: none;\n",
              "      border-radius: 50%;\n",
              "      cursor: pointer;\n",
              "      display: none;\n",
              "      fill: #1967D2;\n",
              "      height: 32px;\n",
              "      padding: 0 0 0 0;\n",
              "      width: 32px;\n",
              "    }\n",
              "\n",
              "    .colab-df-convert:hover {\n",
              "      background-color: #E2EBFA;\n",
              "      box-shadow: 0px 1px 2px rgba(60, 64, 67, 0.3), 0px 1px 3px 1px rgba(60, 64, 67, 0.15);\n",
              "      fill: #174EA6;\n",
              "    }\n",
              "\n",
              "    [theme=dark] .colab-df-convert {\n",
              "      background-color: #3B4455;\n",
              "      fill: #D2E3FC;\n",
              "    }\n",
              "\n",
              "    [theme=dark] .colab-df-convert:hover {\n",
              "      background-color: #434B5C;\n",
              "      box-shadow: 0px 1px 3px 1px rgba(0, 0, 0, 0.15);\n",
              "      filter: drop-shadow(0px 1px 2px rgba(0, 0, 0, 0.3));\n",
              "      fill: #FFFFFF;\n",
              "    }\n",
              "  </style>\n",
              "\n",
              "      <script>\n",
              "        const buttonEl =\n",
              "          document.querySelector('#df-fb35ffd6-0d99-4c7c-935a-dd5cfa519de4 button.colab-df-convert');\n",
              "        buttonEl.style.display =\n",
              "          google.colab.kernel.accessAllowed ? 'block' : 'none';\n",
              "\n",
              "        async function convertToInteractive(key) {\n",
              "          const element = document.querySelector('#df-fb35ffd6-0d99-4c7c-935a-dd5cfa519de4');\n",
              "          const dataTable =\n",
              "            await google.colab.kernel.invokeFunction('convertToInteractive',\n",
              "                                                     [key], {});\n",
              "          if (!dataTable) return;\n",
              "\n",
              "          const docLinkHtml = 'Like what you see? Visit the ' +\n",
              "            '<a target=\"_blank\" href=https://colab.research.google.com/notebooks/data_table.ipynb>data table notebook</a>'\n",
              "            + ' to learn more about interactive tables.';\n",
              "          element.innerHTML = '';\n",
              "          dataTable['output_type'] = 'display_data';\n",
              "          await google.colab.output.renderOutput(dataTable, element);\n",
              "          const docLink = document.createElement('div');\n",
              "          docLink.innerHTML = docLinkHtml;\n",
              "          element.appendChild(docLink);\n",
              "        }\n",
              "      </script>\n",
              "    </div>\n",
              "  </div>\n",
              "  "
            ]
          },
          "metadata": {},
          "execution_count": 23
        }
      ]
    },
    {
      "cell_type": "code",
      "source": [
        "preds=[]\n",
        "for p in pre_preds:\n",
        "  if p<=a[('Y_Quality','max')][0]:\n",
        "    preds.append(0)\n",
        "  elif p<=a[('Y_Quality','min')][2]:\n",
        "    preds.append(1)\n",
        "  else:\n",
        "    preds.append(2)"
      ],
      "metadata": {
        "id": "Lg_m3Na65lGF"
      },
      "execution_count": null,
      "outputs": []
    },
    {
      "cell_type": "code",
      "source": [
        "print(f1_score(yy_val, preds, average = 'macro'))"
      ],
      "metadata": {
        "colab": {
          "base_uri": "https://localhost:8080/"
        },
        "id": "P-eHWcvE5lH8",
        "outputId": "1f7d64c6-3392-445a-a6da-30197cde0973"
      },
      "execution_count": null,
      "outputs": [
        {
          "output_type": "stream",
          "name": "stdout",
          "text": [
            "0.6379806198265391\n"
          ]
        }
      ]
    },
    {
      "cell_type": "markdown",
      "source": [
        "# catboost baseline + 최빈값 결측치 처리 submission\n",
        "\n",
        "public 기준 0.7027959332"
      ],
      "metadata": {
        "id": "lkjYdpnKZeEf"
      }
    },
    {
      "cell_type": "code",
      "source": [
        "from sklearn.model_selection import train_test_split\n",
        "from sklearn.preprocessing import LabelEncoder\n",
        "\n",
        "from sklearn.model_selection import train_test_split\n",
        "from sklearn.preprocessing import LabelEncoder\n",
        "\n",
        "train_df = pd.read_csv('./drive/MyDrive/open/train.csv')\n",
        "test_df = pd.read_csv('./drive/MyDrive/open/test.csv')\n",
        "\n",
        "train_x = train_df.drop(columns=['PRODUCT_ID', 'TIMESTAMP'])\n",
        "test_x = test_df.drop(columns=['PRODUCT_ID', 'TIMESTAMP'])\n",
        "\n",
        "A = pd.DataFrame(train_x.isnull().sum(),columns=['sum'])\n",
        "a = list(A[A['sum']==train_x.shape[0]].index)\n",
        "train_x.drop(columns=a,inplace=True)\n",
        "test_x.drop(columns=a, inplace=True)\n",
        "\n",
        "mode_list=[]\n",
        "for c in train_x.columns[4:]:\n",
        "  mode_list.append(train_x[c].median())\n",
        "\n",
        "for i,c in enumerate(train_x.columns[4:]):\n",
        "  train_x[c].fillna(mode_list[i],inplace=True)\n",
        "  test_x[c].fillna(mode_list[i],inplace=True)\n",
        "\n",
        "qual_col = ['LINE', 'PRODUCT_CODE']\n",
        "\n",
        "for i in qual_col:\n",
        "    le = LabelEncoder()\n",
        "    le = le.fit(train_x[i])\n",
        "    train_x[i] = le.transform(train_x[i])\n",
        "\n",
        "    for label in np.unique(test_x[i]):\n",
        "        if label not in le.classes_:\n",
        "            le.classes_ = np.append(le.classes_, label)\n",
        "    test_x[i] = le.transform(test_x[i])\n",
        "print('Done.')"
      ],
      "metadata": {
        "colab": {
          "base_uri": "https://localhost:8080/"
        },
        "id": "M40N23rZZfNO",
        "outputId": "5ec0346f-bd68-4fc3-b866-0d7fd96e596d"
      },
      "execution_count": null,
      "outputs": [
        {
          "output_type": "stream",
          "name": "stdout",
          "text": [
            "Done.\n"
          ]
        }
      ]
    },
    {
      "cell_type": "code",
      "source": [
        "ttrain_y = train_x['Y_Class']\n",
        "train_y = train_x['Y_Quality']\n",
        "train_x = train_x.drop(columns=['Y_Class','Y_Quality'])"
      ],
      "metadata": {
        "id": "oTJBL2NkazwN"
      },
      "execution_count": null,
      "outputs": []
    },
    {
      "cell_type": "code",
      "source": [
        "clf = catboost.CatBoostRegressor(learning_rate=0.05, iterations=500, verbose=0)\n",
        "clf.fit(train_x, train_y, early_stopping_rounds=100, cat_features=['PRODUCT_CODE', 'LINE'])"
      ],
      "metadata": {
        "colab": {
          "base_uri": "https://localhost:8080/"
        },
        "id": "9j-LT74Ra7P3",
        "outputId": "a0fd85b8-357f-4cf2-b115-551b0f3caa65"
      },
      "execution_count": null,
      "outputs": [
        {
          "output_type": "execute_result",
          "data": {
            "text/plain": [
              "<catboost.core.CatBoostRegressor at 0x7f0e03d58910>"
            ]
          },
          "metadata": {},
          "execution_count": 90
        }
      ]
    },
    {
      "cell_type": "code",
      "source": [
        "pre_preds = clf.predict(test_x)\n",
        "pre_preds"
      ],
      "metadata": {
        "id": "lKo_i8BobA5G",
        "colab": {
          "base_uri": "https://localhost:8080/"
        },
        "outputId": "40fcccc6-9967-416d-e9cb-397509d193c7"
      },
      "execution_count": null,
      "outputs": [
        {
          "output_type": "execute_result",
          "data": {
            "text/plain": [
              "array([0.530137  , 0.53327221, 0.53086611, 0.52503777, 0.53181666,\n",
              "       0.53079102, 0.5324302 , 0.52478191, 0.52410759, 0.53219965,\n",
              "       0.53299099, 0.53396359, 0.5344585 , 0.52488223, 0.52557672,\n",
              "       0.52612265, 0.53089421, 0.52796687, 0.530229  , 0.53210978,\n",
              "       0.52792173, 0.53238021, 0.52710297, 0.52697049, 0.52740962,\n",
              "       0.52739197, 0.52887602, 0.52670618, 0.52598408, 0.53136542,\n",
              "       0.52651401, 0.53255908, 0.52634627, 0.52910493, 0.53137576,\n",
              "       0.52436228, 0.52600856, 0.51990666, 0.55013182, 0.52578662,\n",
              "       0.53041981, 0.52544719, 0.52428312, 0.52741608, 0.52916702,\n",
              "       0.53012025, 0.53066789, 0.51986835, 0.52860405, 0.51976537,\n",
              "       0.53117606, 0.51740275, 0.52350291, 0.52228256, 0.52391737,\n",
              "       0.52323838, 0.52896477, 0.52882741, 0.52347347, 0.52334349,\n",
              "       0.52224365, 0.52407559, 0.52700852, 0.5295281 , 0.52381149,\n",
              "       0.52304875, 0.52294655, 0.52942043, 0.52687685, 0.52698758,\n",
              "       0.52728004, 0.51687885, 0.53092859, 0.52855246, 0.53097436,\n",
              "       0.52902284, 0.53061686, 0.52766426, 0.54276054, 0.53199156,\n",
              "       0.53243574, 0.53106085, 0.53027103, 0.53051494, 0.5333727 ,\n",
              "       0.53198921, 0.51805451, 0.53264273, 0.51698855, 0.52455382,\n",
              "       0.53369061, 0.53210779, 0.53402853, 0.53424798, 0.5280596 ,\n",
              "       0.53382836, 0.53092611, 0.53426838, 0.52936137, 0.53421632,\n",
              "       0.52840615, 0.53418352, 0.52937742, 0.5346966 , 0.53195538,\n",
              "       0.53115351, 0.53368202, 0.52923147, 0.53575005, 0.53215851,\n",
              "       0.53119937, 0.52841848, 0.52916433, 0.53414418, 0.53401178,\n",
              "       0.53461839, 0.52693128, 0.52637654, 0.53056459, 0.53557573,\n",
              "       0.53067144, 0.53100093, 0.53351777, 0.53465466, 0.52890983,\n",
              "       0.52851643, 0.53515918, 0.53090028, 0.52979419, 0.52871491,\n",
              "       0.52842024, 0.52834827, 0.52840748, 0.52801129, 0.53660332,\n",
              "       0.53769195, 0.53193161, 0.53689257, 0.53416356, 0.52945202,\n",
              "       0.53083917, 0.52778196, 0.52497539, 0.53135133, 0.53321936,\n",
              "       0.53501327, 0.53102826, 0.53505943, 0.52840853, 0.52829106,\n",
              "       0.5282876 , 0.53340805, 0.53072653, 0.53138973, 0.5280789 ,\n",
              "       0.5284463 , 0.52876943, 0.52791353, 0.53177646, 0.52828704,\n",
              "       0.54159394, 0.53916334, 0.5308341 , 0.5391816 , 0.52839219,\n",
              "       0.53003861, 0.52851659, 0.52945235, 0.52870655, 0.53371941,\n",
              "       0.52863842, 0.53022904, 0.53412235, 0.52899237, 0.52882838,\n",
              "       0.52800547, 0.53204412, 0.53168144, 0.52878338, 0.53435031,\n",
              "       0.53245409, 0.52953081, 0.53069738, 0.53502859, 0.52979574,\n",
              "       0.52881934, 0.52970122, 0.53410836, 0.52885635, 0.53196409,\n",
              "       0.52994432, 0.53105823, 0.52890988, 0.52968541, 0.53027426,\n",
              "       0.52880278, 0.52666468, 0.52977075, 0.52998029, 0.52747223,\n",
              "       0.52879976, 0.5302779 , 0.52922656, 0.527304  , 0.53209344,\n",
              "       0.52958836, 0.52998977, 0.52690469, 0.52933268, 0.52909696,\n",
              "       0.52943184, 0.52758017, 0.52564789, 0.52992337, 0.52807013,\n",
              "       0.52835073, 0.52771753, 0.52788279, 0.52841111, 0.53045194,\n",
              "       0.53010661, 0.52830476, 0.52832974, 0.52814338, 0.52795738,\n",
              "       0.52799119, 0.52675472, 0.53023952, 0.52708923, 0.52837082,\n",
              "       0.52914503, 0.5295473 , 0.53161006, 0.52786328, 0.52686088,\n",
              "       0.53004651, 0.52784126, 0.53006708, 0.52792776, 0.53025621,\n",
              "       0.52976482, 0.52914734, 0.52981146, 0.52811287, 0.52907373,\n",
              "       0.52724536, 0.52671573, 0.52907924, 0.52839075, 0.52892028,\n",
              "       0.52700221, 0.52713031, 0.5259678 , 0.5273664 , 0.52646589,\n",
              "       0.52680768, 0.52744284, 0.52851208, 0.52781684, 0.5290607 ,\n",
              "       0.53822234, 0.53053716, 0.53014493, 0.52802578, 0.52873858,\n",
              "       0.52963716, 0.53129747, 0.52933525, 0.52963655, 0.52920459,\n",
              "       0.52871671, 0.52971756, 0.52745416, 0.52914646, 0.52885334,\n",
              "       0.52880619, 0.52929425, 0.52850136, 0.52751018, 0.52800497,\n",
              "       0.52750195, 0.52812888, 0.5268434 , 0.52923221, 0.52472721,\n",
              "       0.52535053, 0.52585696, 0.52560195, 0.5272665 , 0.52856057,\n",
              "       0.52932335, 0.52848404, 0.52499911, 0.52727647, 0.52696544,\n",
              "       0.5282757 , 0.52826116, 0.52756672, 0.52721936, 0.52683583,\n",
              "       0.52660037, 0.52895033, 0.52841851, 0.52696092, 0.52743536,\n",
              "       0.52735146, 0.52745706, 0.52951242, 0.52902654, 0.52911624])"
            ]
          },
          "metadata": {},
          "execution_count": 91
        }
      ]
    },
    {
      "cell_type": "code",
      "source": [
        "a = train_df[['Y_Class','Y_Quality']].groupby('Y_Class').agg(['mean', 'min', 'max', 'count'])\n",
        "a"
      ],
      "metadata": {
        "colab": {
          "base_uri": "https://localhost:8080/"
        },
        "id": "5QosPcw76hEr",
        "outputId": "482ed9ec-6441-4393-ba9e-096ccf794e85"
      },
      "execution_count": null,
      "outputs": [
        {
          "output_type": "execute_result",
          "data": {
            "text/plain": [
              "        Y_Quality                          \n",
              "             mean       min       max count\n",
              "Y_Class                                    \n",
              "0        0.520837  0.500856  0.525067    88\n",
              "1        0.530253  0.525086  0.534843   407\n",
              "2        0.542031  0.534951  0.578841   103"
            ],
            "text/html": [
              "\n",
              "  <div id=\"df-e3694175-7c2c-4a89-af60-3f8492ae221d\">\n",
              "    <div class=\"colab-df-container\">\n",
              "      <div>\n",
              "<style scoped>\n",
              "    .dataframe tbody tr th:only-of-type {\n",
              "        vertical-align: middle;\n",
              "    }\n",
              "\n",
              "    .dataframe tbody tr th {\n",
              "        vertical-align: top;\n",
              "    }\n",
              "\n",
              "    .dataframe thead tr th {\n",
              "        text-align: left;\n",
              "    }\n",
              "\n",
              "    .dataframe thead tr:last-of-type th {\n",
              "        text-align: right;\n",
              "    }\n",
              "</style>\n",
              "<table border=\"1\" class=\"dataframe\">\n",
              "  <thead>\n",
              "    <tr>\n",
              "      <th></th>\n",
              "      <th colspan=\"4\" halign=\"left\">Y_Quality</th>\n",
              "    </tr>\n",
              "    <tr>\n",
              "      <th></th>\n",
              "      <th>mean</th>\n",
              "      <th>min</th>\n",
              "      <th>max</th>\n",
              "      <th>count</th>\n",
              "    </tr>\n",
              "    <tr>\n",
              "      <th>Y_Class</th>\n",
              "      <th></th>\n",
              "      <th></th>\n",
              "      <th></th>\n",
              "      <th></th>\n",
              "    </tr>\n",
              "  </thead>\n",
              "  <tbody>\n",
              "    <tr>\n",
              "      <th>0</th>\n",
              "      <td>0.520837</td>\n",
              "      <td>0.500856</td>\n",
              "      <td>0.525067</td>\n",
              "      <td>88</td>\n",
              "    </tr>\n",
              "    <tr>\n",
              "      <th>1</th>\n",
              "      <td>0.530253</td>\n",
              "      <td>0.525086</td>\n",
              "      <td>0.534843</td>\n",
              "      <td>407</td>\n",
              "    </tr>\n",
              "    <tr>\n",
              "      <th>2</th>\n",
              "      <td>0.542031</td>\n",
              "      <td>0.534951</td>\n",
              "      <td>0.578841</td>\n",
              "      <td>103</td>\n",
              "    </tr>\n",
              "  </tbody>\n",
              "</table>\n",
              "</div>\n",
              "      <button class=\"colab-df-convert\" onclick=\"convertToInteractive('df-e3694175-7c2c-4a89-af60-3f8492ae221d')\"\n",
              "              title=\"Convert this dataframe to an interactive table.\"\n",
              "              style=\"display:none;\">\n",
              "        \n",
              "  <svg xmlns=\"http://www.w3.org/2000/svg\" height=\"24px\"viewBox=\"0 0 24 24\"\n",
              "       width=\"24px\">\n",
              "    <path d=\"M0 0h24v24H0V0z\" fill=\"none\"/>\n",
              "    <path d=\"M18.56 5.44l.94 2.06.94-2.06 2.06-.94-2.06-.94-.94-2.06-.94 2.06-2.06.94zm-11 1L8.5 8.5l.94-2.06 2.06-.94-2.06-.94L8.5 2.5l-.94 2.06-2.06.94zm10 10l.94 2.06.94-2.06 2.06-.94-2.06-.94-.94-2.06-.94 2.06-2.06.94z\"/><path d=\"M17.41 7.96l-1.37-1.37c-.4-.4-.92-.59-1.43-.59-.52 0-1.04.2-1.43.59L10.3 9.45l-7.72 7.72c-.78.78-.78 2.05 0 2.83L4 21.41c.39.39.9.59 1.41.59.51 0 1.02-.2 1.41-.59l7.78-7.78 2.81-2.81c.8-.78.8-2.07 0-2.86zM5.41 20L4 18.59l7.72-7.72 1.47 1.35L5.41 20z\"/>\n",
              "  </svg>\n",
              "      </button>\n",
              "      \n",
              "  <style>\n",
              "    .colab-df-container {\n",
              "      display:flex;\n",
              "      flex-wrap:wrap;\n",
              "      gap: 12px;\n",
              "    }\n",
              "\n",
              "    .colab-df-convert {\n",
              "      background-color: #E8F0FE;\n",
              "      border: none;\n",
              "      border-radius: 50%;\n",
              "      cursor: pointer;\n",
              "      display: none;\n",
              "      fill: #1967D2;\n",
              "      height: 32px;\n",
              "      padding: 0 0 0 0;\n",
              "      width: 32px;\n",
              "    }\n",
              "\n",
              "    .colab-df-convert:hover {\n",
              "      background-color: #E2EBFA;\n",
              "      box-shadow: 0px 1px 2px rgba(60, 64, 67, 0.3), 0px 1px 3px 1px rgba(60, 64, 67, 0.15);\n",
              "      fill: #174EA6;\n",
              "    }\n",
              "\n",
              "    [theme=dark] .colab-df-convert {\n",
              "      background-color: #3B4455;\n",
              "      fill: #D2E3FC;\n",
              "    }\n",
              "\n",
              "    [theme=dark] .colab-df-convert:hover {\n",
              "      background-color: #434B5C;\n",
              "      box-shadow: 0px 1px 3px 1px rgba(0, 0, 0, 0.15);\n",
              "      filter: drop-shadow(0px 1px 2px rgba(0, 0, 0, 0.3));\n",
              "      fill: #FFFFFF;\n",
              "    }\n",
              "  </style>\n",
              "\n",
              "      <script>\n",
              "        const buttonEl =\n",
              "          document.querySelector('#df-e3694175-7c2c-4a89-af60-3f8492ae221d button.colab-df-convert');\n",
              "        buttonEl.style.display =\n",
              "          google.colab.kernel.accessAllowed ? 'block' : 'none';\n",
              "\n",
              "        async function convertToInteractive(key) {\n",
              "          const element = document.querySelector('#df-e3694175-7c2c-4a89-af60-3f8492ae221d');\n",
              "          const dataTable =\n",
              "            await google.colab.kernel.invokeFunction('convertToInteractive',\n",
              "                                                     [key], {});\n",
              "          if (!dataTable) return;\n",
              "\n",
              "          const docLinkHtml = 'Like what you see? Visit the ' +\n",
              "            '<a target=\"_blank\" href=https://colab.research.google.com/notebooks/data_table.ipynb>data table notebook</a>'\n",
              "            + ' to learn more about interactive tables.';\n",
              "          element.innerHTML = '';\n",
              "          dataTable['output_type'] = 'display_data';\n",
              "          await google.colab.output.renderOutput(dataTable, element);\n",
              "          const docLink = document.createElement('div');\n",
              "          docLink.innerHTML = docLinkHtml;\n",
              "          element.appendChild(docLink);\n",
              "        }\n",
              "      </script>\n",
              "    </div>\n",
              "  </div>\n",
              "  "
            ]
          },
          "metadata": {},
          "execution_count": 92
        }
      ]
    },
    {
      "cell_type": "code",
      "source": [
        "preds=[]\n",
        "for p in pre_preds:\n",
        "  if p<=a[('Y_Quality','max')][0]:\n",
        "    preds.append(0)\n",
        "  elif p<=a[('Y_Quality','min')][2]:\n",
        "    preds.append(1)\n",
        "  else:\n",
        "    preds.append(2)"
      ],
      "metadata": {
        "id": "EvxS7kdq6hdJ"
      },
      "execution_count": null,
      "outputs": []
    },
    {
      "cell_type": "code",
      "source": [
        "submit = pd.read_csv('./drive/MyDrive/open/sample_submission.csv')\n",
        "submit['Y_Class'] = preds\n",
        "submit.to_csv('./baseline_submission2.csv', index=False)"
      ],
      "metadata": {
        "id": "qHq-dZOJbGSm"
      },
      "execution_count": null,
      "outputs": []
    }
  ],
  "metadata": {
    "colab": {
      "provenance": [],
      "collapsed_sections": [
        "aHkIlOI1Rdwx",
        "De8GSB5LIQa_",
        "bNdzoQhTSB9R",
        "lkjYdpnKZeEf"
      ]
    },
    "kernelspec": {
      "display_name": "Python 3",
      "name": "python3"
    },
    "language_info": {
      "name": "python"
    }
  },
  "nbformat": 4,
  "nbformat_minor": 0
}